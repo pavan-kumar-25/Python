{
 "cells": [
  {
   "cell_type": "markdown",
   "metadata": {},
   "source": [
    "Q1. Create two 3×3 matrices using the random function in Numpy and perform the following operations.\n",
    "è Product (prod)\n",
    "è Multiplication (multiply)\n",
    "è Dot Product (dot)"
   ]
  },
  {
   "cell_type": "code",
   "execution_count": 2,
   "metadata": {},
   "outputs": [
    {
     "name": "stdout",
     "output_type": "stream",
     "text": [
      "Matrix 1:\n",
      " [[0.6192163  0.70397237 0.09387977]\n",
      " [0.08337886 0.98724613 0.4177578 ]\n",
      " [0.32569517 0.0299235  0.47146205]]\n",
      "\n",
      "Matrix 2:\n",
      " [[0.51623985 0.0135481  0.57474822]\n",
      " [0.56726744 0.28202339 0.99042754]\n",
      " [0.49994003 0.64941796 0.19859709]]\n",
      "\n",
      "Product of elements in Matrix 1: 6.466159495196907e-06\n",
      "\n",
      "Matrix multiplication:\n",
      " [[0.76593898 0.26789309 1.07177134]\n",
      " [0.81192992 0.55085555 1.1086831 ]\n",
      " [0.4208142  0.3190276  0.31046077]]\n",
      "\n",
      "Dot product:\n",
      " [[0.76593898 0.26789309 1.07177134]\n",
      " [0.81192992 0.55085555 1.1086831 ]\n",
      " [0.4208142  0.3190276  0.31046077]]\n"
     ]
    }
   ],
   "source": [
    "import numpy as np\n",
    "\n",
    "# Create two 3x3 matrices with random values\n",
    "matrix1 = np.random.rand(3, 3)\n",
    "matrix2 = np.random.rand(3, 3)\n",
    "\n",
    "# Calculate the product of the elements in the matrices\n",
    "product = np.prod(matrix1)\n",
    "\n",
    "# Perform matrix multiplication\n",
    "multiplication = np.matmul(matrix1, matrix2)\n",
    "\n",
    "# Perform dot product\n",
    "dot_product = np.dot(matrix1, matrix2)\n",
    "\n",
    "# Print the matrices and the results of the operations\n",
    "print(\"Matrix 1:\\n\", matrix1)\n",
    "print(\"\\nMatrix 2:\\n\", matrix2)\n",
    "print(\"\\nProduct of elements in Matrix 1:\", product)\n",
    "print(\"\\nMatrix multiplication:\\n\", multiplication)\n",
    "print(\"\\nDot product:\\n\", dot_product)"
   ]
  },
  {
   "cell_type": "markdown",
   "metadata": {},
   "source": [
    "Q2. Perform the following set operations using the Numpy functions.\n",
    "è Union\n",
    "è Intersection\n",
    "è Set difference\n",
    "è XOR"
   ]
  },
  {
   "cell_type": "code",
   "execution_count": 22,
   "metadata": {},
   "outputs": [
    {
     "name": "stdout",
     "output_type": "stream",
     "text": [
      "Array 1: [1 2 3 4 5]\n",
      "Array 2: [4 5 6 7 8]\n",
      "Union: [1 2 3 4 5 6 7 8]\n",
      "Intersection: [4 5]\n",
      "Set difference (Array 1 - Array 2): [1 2 3]\n",
      "XOR: [1 2 3 6 7 8]\n"
     ]
    }
   ],
   "source": [
    "import numpy as np\n",
    "\n",
    "# Create two arrays\n",
    "array1 = np.array([1, 2, 3, 4, 5])\n",
    "array2 = np.array([4, 5, 6, 7, 8])\n",
    "\n",
    "# Perform set operations\n",
    "union = np.union1d(array1, array2)\n",
    "intersection = np.intersect1d(array1, array2)\n",
    "set_difference = np.setdiff1d(array1, array2)\n",
    "xor = np.setxor1d(array1, array2)\n",
    "\n",
    "# Print the results\n",
    "print(\"Array 1:\", array1)\n",
    "print(\"Array 2:\", array2)\n",
    "print(\"Union:\", union)\n",
    "print(\"Intersection:\", intersection)\n",
    "print(\"Set difference (Array 1 - Array 2):\", set_difference)\n",
    "print(\"XOR:\", xor)"
   ]
  },
  {
   "cell_type": "markdown",
   "metadata": {},
   "source": [
    "Q3. Create a 1D array using Random function and perform the following operations.\n",
    "è Cumulative sum\n",
    "è Cumulative Product\n",
    "è Discrete difference (with n=3)\n",
    "è Find the unique elements from the array"
   ]
  },
  {
   "cell_type": "code",
   "execution_count": 3,
   "metadata": {},
   "outputs": [
    {
     "name": "stdout",
     "output_type": "stream",
     "text": [
      "Array: [0.71895179 0.61350885 0.36831482 0.1865553  0.30386635 0.38375745\n",
      " 0.16084479 0.6122051  0.38007211 0.37551538]\n",
      "\n",
      "Cumulative sum: [0.71895179 1.33246063 1.70077545 1.88733075 2.1911971  2.57495455\n",
      " 2.73579934 3.34800444 3.72807655 4.10359193]\n",
      "\n",
      "Cumulative product: [7.18951785e-01 4.41083281e-01 1.62457510e-01 3.03073094e-02\n",
      " 9.20937147e-03 3.53416488e-03 5.68451996e-04 3.48009211e-04\n",
      " 1.32268597e-04 4.96688920e-05]\n",
      "\n",
      "Discrete difference (n=3): [ 0.20318559  0.23563607 -0.33649053 -0.2653838   0.97707673 -1.35776627\n",
      "  0.91106955]\n",
      "\n",
      "Unique elements: [0.16084479 0.1865553  0.30386635 0.36831482 0.37551538 0.38007211\n",
      " 0.38375745 0.6122051  0.61350885 0.71895179]\n"
     ]
    }
   ],
   "source": [
    "import numpy as np\n",
    "\n",
    "# Create a 1D array with random values\n",
    "array = np.random.rand(10)\n",
    "\n",
    "# Calculate the cumulative sum of the elements in the array\n",
    "cumulative_sum = np.cumsum(array)\n",
    "\n",
    "# Calculate the cumulative product of the elements in the array\n",
    "cumulative_product = np.cumprod(array)\n",
    "\n",
    "# Calculate the discrete difference of the elements in the array with n=3\n",
    "discrete_diff = np.diff(array, n=3)\n",
    "\n",
    "# Find the unique elements in the array\n",
    "unique_elements = np.unique(array)\n",
    "\n",
    "# Print the array and the results of the operations\n",
    "print(\"Array:\", array)\n",
    "print(\"\\nCumulative sum:\", cumulative_sum)\n",
    "print(\"\\nCumulative product:\", cumulative_product)\n",
    "print(\"\\nDiscrete difference (n=3):\", discrete_diff)\n",
    "print(\"\\nUnique elements:\", unique_elements)"
   ]
  },
  {
   "cell_type": "markdown",
   "metadata": {},
   "source": [
    "Q4. Create two 1D array and perform the Addition using zip(), add() and user defined function (frompyfunc())"
   ]
  },
  {
   "cell_type": "code",
   "execution_count": 4,
   "metadata": {},
   "outputs": [
    {
     "name": "stdout",
     "output_type": "stream",
     "text": [
      "Array 1: [0.62054021 0.80978913 0.01067209 0.35748528 0.69666524]\n",
      "\n",
      "Array 2: [0.0083894  0.16803563 0.68069479 0.11151639 0.79576651]\n",
      "\n",
      "Addition using zip() and list comprehension: [0.62892962 0.97782476 0.69136688 0.46900167 1.49243174]\n",
      "\n",
      "Addition using numpy.add(): [0.62892962 0.97782476 0.69136688 0.46900167 1.49243174]\n",
      "\n",
      "Addition using ufunc: [0.6289296176895565 0.9778247578145687 0.6913668805610449\n",
      " 0.4690016659825742 1.4924317444856323]\n"
     ]
    }
   ],
   "source": [
    "import numpy as np\n",
    "\n",
    "# Create two 1D arrays with random values\n",
    "array1 = np.random.rand(5)\n",
    "array2 = np.random.rand(5)\n",
    "\n",
    "# Perform addition using zip() and list comprehension\n",
    "zip_addition = np.array([x + y for x, y in zip(array1, array2)])\n",
    "\n",
    "# Perform addition using numpy.add()\n",
    "numpy_addition = np.add(array1, array2)\n",
    "\n",
    "# Create a user-defined function for addition\n",
    "def add(x, y):\n",
    "    return x + y\n",
    "\n",
    "# Create a ufunc from the user-defined function\n",
    "ufunc_add = np.frompyfunc(add, 2, 1)\n",
    "\n",
    "# Perform addition using the ufunc\n",
    "ufunc_addition = ufunc_add(array1, array2)\n",
    "\n",
    "# Print the arrays and the results of the addition\n",
    "print(\"Array 1:\", array1)\n",
    "print(\"\\nArray 2:\", array2)\n",
    "print(\"\\nAddition using zip() and list comprehension:\", zip_addition)\n",
    "print(\"\\nAddition using numpy.add():\", numpy_addition)\n",
    "print(\"\\nAddition using ufunc:\", ufunc_addition)"
   ]
  },
  {
   "cell_type": "markdown",
   "metadata": {},
   "source": [
    "Q5. Find the LCM (Least Common Multiple) and GCD (Greatest Common Divisor) of an array of elements using reduce()."
   ]
  },
  {
   "cell_type": "code",
   "execution_count": 19,
   "metadata": {},
   "outputs": [
    {
     "name": "stdout",
     "output_type": "stream",
     "text": [
      "Array: [3 6 9]\n",
      "LCM: 18\n",
      "GCD: 3\n"
     ]
    }
   ],
   "source": [
    "import numpy as np\n",
    "import functools\n",
    "\n",
    "# Define a function to calculate the LCM of two numbers\n",
    "def lcm(a, b):\n",
    "    return (a * b) // np.gcd(a, b)\n",
    "\n",
    "# Define an array of elements\n",
    "array = np.array([3, 6, 9])\n",
    "\n",
    "# Find the LCM of the array using reduce() and lcm()\n",
    "lcm_array = functools.reduce(lcm, array)\n",
    "\n",
    "# Find the GCD of the array using reduce() and numpy.gcd()\n",
    "gcd_array = functools.reduce(np.gcd, array)\n",
    "\n",
    "# Print the array and the results of the LCM and GCD\n",
    "print(\"Array:\", array)\n",
    "print(\"LCM:\", lcm_array)\n",
    "print(\"GCD:\", gcd_array)"
   ]
  }
 ],
 "metadata": {
  "kernelspec": {
   "display_name": "Python 3",
   "language": "python",
   "name": "python3"
  },
  "language_info": {
   "codemirror_mode": {
    "name": "ipython",
    "version": 3
   },
   "file_extension": ".py",
   "mimetype": "text/x-python",
   "name": "python",
   "nbconvert_exporter": "python",
   "pygments_lexer": "ipython3",
   "version": "3.11.5"
  },
  "orig_nbformat": 4
 },
 "nbformat": 4,
 "nbformat_minor": 2
}
