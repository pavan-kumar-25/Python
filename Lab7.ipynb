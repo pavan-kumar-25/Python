{
 "cells": [
  {
   "cell_type": "markdown",
   "metadata": {},
   "source": [
    "Q1. Create two 3×3 matrices using the random function in Numpy and perform the following operations.\n",
    "è Product (prod)\n",
    "è Multiplication (multiply)\n",
    "è Dot Product (dot)"
   ]
  },
  {
   "cell_type": "code",
   "execution_count": 11,
   "metadata": {},
   "outputs": [
    {
     "name": "stdout",
     "output_type": "stream",
     "text": [
      "Matrix 1:\n",
      " [[9 5 6]\n",
      " [4 9 7]\n",
      " [4 8 3]]\n",
      "\n",
      "Matrix 2:\n",
      " [[0 3 0]\n",
      " [4 0 4]\n",
      " [3 0 4]]\n",
      "\n",
      "Product of elements in Matrix 1: 6531840\n",
      "\n",
      "Matrix multiplication:\n",
      " [[38 27 44]\n",
      " [57 12 64]\n",
      " [41 12 44]]\n",
      "\n",
      "Dot product:\n",
      " [[38 27 44]\n",
      " [57 12 64]\n",
      " [41 12 44]]\n"
     ]
    }
   ],
   "source": [
    "import numpy as np\n",
    "\n",
    "# Create two 3x3 matrices with random values\n",
    "matrix1 = np.random.randint(10, size=(3, 3))\n",
    "matrix2 = np.random.randint(5, size=(3, 3))\n",
    "\n",
    "# Calculate the product of the elements in the matrices\n",
    "product = np.prod(matrix1)\n",
    "\n",
    "# Perform matrix multiplication\n",
    "multiplication = np.matmul(matrix1, matrix2)\n",
    "\n",
    "# Perform dot product\n",
    "dot_product = np.dot(matrix1, matrix2)\n",
    "\n",
    "# Print the matrices and the results of the operations\n",
    "print(\"Matrix 1:\\n\", matrix1)\n",
    "print(\"\\nMatrix 2:\\n\", matrix2)\n",
    "print(\"\\nProduct of elements in Matrix 1:\", product)\n",
    "print(\"\\nMatrix multiplication:\\n\", multiplication)\n",
    "print(\"\\nDot product:\\n\", dot_product)"
   ]
  },
  {
   "cell_type": "markdown",
   "metadata": {},
   "source": [
    "Q2. Perform the following set operations using the Numpy functions.\n",
    "è Union\n",
    "è Intersection\n",
    "è Set difference\n",
    "è XOR"
   ]
  },
  {
   "cell_type": "code",
   "execution_count": 22,
   "metadata": {},
   "outputs": [
    {
     "name": "stdout",
     "output_type": "stream",
     "text": [
      "Array 1: [1 2 3 4 5]\n",
      "Array 2: [4 5 6 7 8]\n",
      "Union: [1 2 3 4 5 6 7 8]\n",
      "Intersection: [4 5]\n",
      "Set difference (Array 1 - Array 2): [1 2 3]\n",
      "XOR: [1 2 3 6 7 8]\n"
     ]
    }
   ],
   "source": [
    "import numpy as np\n",
    "\n",
    "# Create two arrays\n",
    "array1 = np.array([1, 2, 3, 4, 5])\n",
    "array2 = np.array([4, 5, 6, 7, 8])\n",
    "\n",
    "# Perform set operations\n",
    "union = np.union1d(array1, array2)\n",
    "intersection = np.intersect1d(array1, array2)\n",
    "set_difference = np.setdiff1d(array1, array2)\n",
    "xor = np.setxor1d(array1, array2)\n",
    "\n",
    "# Print the results\n",
    "print(\"Array 1:\", array1)\n",
    "print(\"Array 2:\", array2)\n",
    "print(\"Union:\", union)\n",
    "print(\"Intersection:\", intersection)\n",
    "print(\"Set difference (Array 1 - Array 2):\", set_difference)\n",
    "print(\"XOR:\", xor)"
   ]
  },
  {
   "cell_type": "markdown",
   "metadata": {},
   "source": [
    "Q3. Create a 1D array using Random function and perform the following operations.\n",
    "è Cumulative sum\n",
    "è Cumulative Product\n",
    "è Discrete difference (with n=3)\n",
    "è Find the unique elements from the array"
   ]
  },
  {
   "cell_type": "code",
   "execution_count": 15,
   "metadata": {},
   "outputs": [
    {
     "name": "stdout",
     "output_type": "stream",
     "text": [
      "Array: [6 3 1 2 0]\n",
      "\n",
      "Cumulative sum: [ 6  9 10 12 12]\n",
      "\n",
      "Cumulative product: [ 6 18 18 36  0]\n",
      "\n",
      "Discrete difference (n=3): [ 2 -6]\n",
      "\n",
      "Unique elements: [0 1 2 3 6]\n"
     ]
    }
   ],
   "source": [
    "import numpy as np\n",
    "\n",
    "# Create a 1D array with random values\n",
    "array = np.random.randint(10, size=(5))\n",
    "\n",
    "# Calculate the cumulative sum of the elements in the array\n",
    "cumulative_sum = np.cumsum(array)\n",
    "\n",
    "# Calculate the cumulative product of the elements in the array\n",
    "cumulative_product = np.cumprod(array)\n",
    "\n",
    "# Calculate the discrete difference of the elements in the array with n=3\n",
    "discrete_diff = np.diff(array, n=3)\n",
    "\n",
    "# Find the unique elements in the array\n",
    "unique_elements = np.unique(array)\n",
    "\n",
    "# Print the array and the results of the operations\n",
    "print(\"Array:\", array)\n",
    "print(\"\\nCumulative sum:\", cumulative_sum)\n",
    "print(\"\\nCumulative product:\", cumulative_product)\n",
    "print(\"\\nDiscrete difference (n=3):\", discrete_diff)\n",
    "print(\"\\nUnique elements:\", unique_elements)"
   ]
  },
  {
   "cell_type": "markdown",
   "metadata": {},
   "source": [
    "Q4. Create two 1D array and perform the Addition using zip(), add() and user defined function (frompyfunc())"
   ]
  },
  {
   "cell_type": "code",
   "execution_count": 17,
   "metadata": {},
   "outputs": [
    {
     "name": "stdout",
     "output_type": "stream",
     "text": [
      "Array 1: [4 4 4 3 1]\n",
      "\n",
      "Array 2: [3 2 3 4 0]\n",
      "\n",
      "Addition using zip() and list comprehension: [7 6 7 7 1]\n",
      "\n",
      "Addition using numpy.add(): [7 6 7 7 1]\n",
      "\n",
      "Addition using ufunc: [7 6 7 7 1]\n"
     ]
    }
   ],
   "source": [
    "import numpy as np\n",
    "\n",
    "# Create two 1D arrays with random values\n",
    "array1 = np.random.randint(5, size=(5))\n",
    "array2 = np.random.randint(5, size=(5))\n",
    "\n",
    "# Perform addition using zip() and list comprehension\n",
    "zip_addition = np.array([x + y for x, y in zip(array1, array2)])\n",
    "\n",
    "# Perform addition using numpy.add()\n",
    "numpy_addition = np.add(array1, array2)\n",
    "\n",
    "# Create a user-defined function for addition\n",
    "def add(x, y):\n",
    "    return x + y\n",
    "\n",
    "# Create a ufunc from the user-defined function\n",
    "ufunc_add = np.frompyfunc(add, 2, 1)\n",
    "\n",
    "# Perform addition using the ufunc\n",
    "ufunc_addition = ufunc_add(array1, array2)\n",
    "\n",
    "# Print the arrays and the results of the addition\n",
    "print(\"Array 1:\", array1)\n",
    "print(\"\\nArray 2:\", array2)\n",
    "print(\"\\nAddition using zip() and list comprehension:\", zip_addition)\n",
    "print(\"\\nAddition using numpy.add():\", numpy_addition)\n",
    "print(\"\\nAddition using ufunc:\", ufunc_addition)"
   ]
  },
  {
   "cell_type": "markdown",
   "metadata": {},
   "source": [
    "Q5. Find the LCM (Least Common Multiple) and GCD (Greatest Common Divisor) of an array of elements using reduce()."
   ]
  },
  {
   "cell_type": "code",
   "execution_count": 19,
   "metadata": {},
   "outputs": [
    {
     "name": "stdout",
     "output_type": "stream",
     "text": [
      "Array: [3 6 9]\n",
      "LCM: 18\n",
      "GCD: 3\n"
     ]
    }
   ],
   "source": [
    "import numpy as np\n",
    "import functools\n",
    "\n",
    "# Define a function to calculate the LCM of two numbers\n",
    "def lcm(a, b):\n",
    "    return (a * b) // np.gcd(a, b)\n",
    "\n",
    "# Define an array of elements\n",
    "array = np.array([3, 6, 9])\n",
    "\n",
    "# Find the LCM of the array using reduce() and lcm()\n",
    "lcm_array = functools.reduce(lcm, array)\n",
    "\n",
    "# Find the GCD of the array using reduce() and numpy.gcd()\n",
    "gcd_array = functools.reduce(np.gcd, array)\n",
    "\n",
    "# Print the array and the results of the LCM and GCD\n",
    "print(\"Array:\", array)\n",
    "print(\"LCM:\", lcm_array)\n",
    "print(\"GCD:\", gcd_array)"
   ]
  }
 ],
 "metadata": {
  "kernelspec": {
   "display_name": "Python 3",
   "language": "python",
   "name": "python3"
  },
  "language_info": {
   "codemirror_mode": {
    "name": "ipython",
    "version": 3
   },
   "file_extension": ".py",
   "mimetype": "text/x-python",
   "name": "python",
   "nbconvert_exporter": "python",
   "pygments_lexer": "ipython3",
   "version": "3.11.5"
  },
  "orig_nbformat": 4
 },
 "nbformat": 4,
 "nbformat_minor": 2
}
