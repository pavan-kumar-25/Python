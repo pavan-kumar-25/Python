{
 "cells": [
  {
   "cell_type": "markdown",
   "metadata": {},
   "source": [
    "Q1. Write a program to distinguish between Array Indexing and Fancy Indexing."
   ]
  },
  {
   "cell_type": "code",
   "execution_count": 18,
   "metadata": {},
   "outputs": [
    {
     "name": "stdout",
     "output_type": "stream",
     "text": [
      "Array Indexing:\n",
      "Original array: [1 2 3 4 5]\n",
      "Single element at index 2: 3\n",
      "Multiple elements at indices 1 and 3: [2 5]\n",
      "\n",
      "Fancy Indexing:\n",
      "Original array: [1 2 3 4 5]\n",
      "Multiple elements at indices 1 and 3: [2 5]\n"
     ]
    }
   ],
   "source": [
    "import numpy as np\n",
    "\n",
    "# Array indexing\n",
    "arr = np.array([1, 2, 3, 4, 5])\n",
    "print(\"Array Indexing:\")\n",
    "print(\"Original array:\", arr)\n",
    "print(\"Single element at index 2:\", arr[2])\n",
    "print(\"Multiple elements at indices 1 and 3:\", arr[[1, 4]])\n",
    "\n",
    "# Fancy indexing\n",
    "print(\"\\nFancy Indexing:\")\n",
    "print(\"Original array:\", arr)\n",
    "print(\"Multiple elements at indices 1 and 3:\", arr[np.array([1, 4])])"
   ]
  },
  {
   "cell_type": "markdown",
   "metadata": {},
   "source": [
    "Q2. Execute the 2D array Slicing."
   ]
  },
  {
   "cell_type": "code",
   "execution_count": 17,
   "metadata": {},
   "outputs": [
    {
     "name": "stdout",
     "output_type": "stream",
     "text": [
      "Original array:\n",
      "[[ 3  5  7  9 11]\n",
      " [ 2  4  6  8 10]]\n",
      "\n",
      "Sliced array:\n",
      "[[4 6]]\n"
     ]
    }
   ],
   "source": [
    "import numpy as np\n",
    "\n",
    "# Create a 2D array\n",
    "arr = np.array([[3, 5, 7, 9, 11], [2, 4, 6, 8, 10]])\n",
    "print(\"Original array:\")\n",
    "print(arr)\n",
    "\n",
    "# Slicing a 2D array\n",
    "arr_slice = arr[1:, 1:3]\n",
    "print(\"\\nSliced array:\")\n",
    "print(arr_slice)"
   ]
  },
  {
   "cell_type": "markdown",
   "metadata": {},
   "source": [
    "Q3. Create the 5-Dimensional arrays using ‘ndmin’."
   ]
  },
  {
   "cell_type": "code",
   "execution_count": 16,
   "metadata": {},
   "outputs": [
    {
     "name": "stdout",
     "output_type": "stream",
     "text": [
      "5D array:\n",
      "[[[[[1 2 3 4 5]]]]]\n",
      "Shape of the array: (1, 1, 1, 1, 5)\n"
     ]
    }
   ],
   "source": [
    "import numpy as np\n",
    "\n",
    "# Create a 5D array using ndmin\n",
    "arr = np.array([1, 2, 3, 4, 5], ndmin=5)\n",
    "\n",
    "# Print the array and its shape\n",
    "print(\"5D array:\")\n",
    "print(arr)\n",
    "print(\"Shape of the array:\", arr.shape)"
   ]
  },
  {
   "cell_type": "markdown",
   "metadata": {},
   "source": [
    "Q4. Reshape the array from 1-D to 2-D array."
   ]
  },
  {
   "cell_type": "code",
   "execution_count": 15,
   "metadata": {},
   "outputs": [
    {
     "name": "stdout",
     "output_type": "stream",
     "text": [
      "Original array:\n",
      "[1 2 3 4 5 6 7 8]\n",
      "\n",
      "\n",
      "Reshaped array:\n",
      "[[1 2 3 4]\n",
      " [5 6 7 8]]\n"
     ]
    }
   ],
   "source": [
    "import numpy as np\n",
    "\n",
    "# Create a 1D array\n",
    "arr = np.array([1, 2, 3, 4, 5, 6, 7, 8])\n",
    "\n",
    "# Reshape the array to a 2D array\n",
    "arr_2d = arr.reshape(2, 4)\n",
    "\n",
    "# Print the original and reshaped arrays\n",
    "print(\"Original array:\")\n",
    "print(arr)\n",
    "print(\"\\n\")\n",
    "print(\"Reshaped array:\")\n",
    "print(arr_2d)"
   ]
  },
  {
   "cell_type": "markdown",
   "metadata": {},
   "source": [
    "Q5. Perform the Stack functions in Numpy arrays – Stack(), hstack(), vstack(), and dstack()."
   ]
  },
  {
   "cell_type": "code",
   "execution_count": 13,
   "metadata": {},
   "outputs": [
    {
     "name": "stdout",
     "output_type": "stream",
     "text": [
      "Vertical Stack:\n",
      "[[1 2 3]\n",
      " [4 5 6]]\n",
      "\n",
      "\n",
      "Horizontal Stack:\n",
      "[1 2 3 4 5 6]\n",
      "\n",
      "\n",
      "Depth-wise Stack:\n",
      "[[[ 1  7]\n",
      "  [ 2  8]\n",
      "  [ 3  9]]\n",
      "\n",
      " [[ 4 10]\n",
      "  [ 5 11]\n",
      "  [ 6 12]]]\n"
     ]
    }
   ],
   "source": [
    "import numpy as np\n",
    "\n",
    "# Create two 1D arrays\n",
    "arr1 = np.array([1, 2, 3])\n",
    "arr2 = np.array([4, 5, 6])\n",
    "\n",
    "# Stack the arrays vertically\n",
    "vstacked = np.vstack((arr1, arr2))\n",
    "print(\"Vertical Stack:\")\n",
    "print(vstacked)\n",
    "print(\"\\n\")\n",
    "\n",
    "# Stack the arrays horizontally\n",
    "hstacked = np.hstack((arr1, arr2))\n",
    "print(\"Horizontal Stack:\")\n",
    "print(hstacked)\n",
    "print(\"\\n\")\n",
    "\n",
    "# Create two 2D arrays\n",
    "arr3 = np.array([[1, 2, 3], [4, 5, 6]])\n",
    "arr4 = np.array([[7, 8, 9], [10, 11, 12]])\n",
    "\n",
    "# Stack the arrays depth-wise\n",
    "dstacked = np.dstack((arr3, arr4))\n",
    "print(\"Depth-wise Stack:\")\n",
    "print(dstacked)"
   ]
  },
  {
   "cell_type": "markdown",
   "metadata": {},
   "source": [
    "Q6. Perform the searchsort method in Numpy array."
   ]
  },
  {
   "cell_type": "code",
   "execution_count": 11,
   "metadata": {},
   "outputs": [
    {
     "name": "stdout",
     "output_type": "stream",
     "text": [
      "Array: [1 3 5 7 9]\n",
      "Index of 4 using left side: 2\n",
      "Index of 4 using right side: 2\n",
      "Index of 6 using left side: 3\n",
      "Index of 6 using right side: 3\n"
     ]
    }
   ],
   "source": [
    "import numpy as np\n",
    "\n",
    "# Create a sorted 1D array\n",
    "arr = np.array([1, 3, 5, 7, 9])\n",
    "\n",
    "# Search for elements in the array\n",
    "print(\"Array:\", arr)\n",
    "print(\"Index of 4 using left side:\", np.searchsorted(arr, 4, side='left'))\n",
    "print(\"Index of 4 using right side:\", np.searchsorted(arr, 4, side='right'))\n",
    "print(\"Index of 6 using left side:\", np.searchsorted(arr, 6, side='left'))\n",
    "print(\"Index of 6 using right side:\", np.searchsorted(arr, 6, side='right'))"
   ]
  },
  {
   "cell_type": "markdown",
   "metadata": {},
   "source": [
    "Q7. Create Numpy Structured array using your domain features."
   ]
  },
  {
   "cell_type": "code",
   "execution_count": 10,
   "metadata": {},
   "outputs": [
    {
     "name": "stdout",
     "output_type": "stream",
     "text": [
      "[(1, 'John', 25) (2, 'Jane', 30)]\n"
     ]
    }
   ],
   "source": [
    "import numpy as np\n",
    "\n",
    "# Create a structured array with two fields\n",
    "data = np.array([(1, \"John\", 25), (2, \"Jane\", 30)], dtype=[(\"id\", int), (\"name\", \"U10\"), (\"age\", int)])\n",
    "\n",
    "# Print the structured array\n",
    "print(data)"
   ]
  },
  {
   "cell_type": "markdown",
   "metadata": {},
   "source": [
    "Q8. Create Data frame using List and Dictionary."
   ]
  },
  {
   "cell_type": "code",
   "execution_count": 9,
   "metadata": {},
   "outputs": [
    {
     "name": "stdout",
     "output_type": "stream",
     "text": [
      "   id  name  age\n",
      "0   1  John   25\n",
      "1   2  Jane   30\n",
      "2   3   Bob   35\n",
      "\n",
      "\n",
      "   id  name  age\n",
      "0   1  John   25\n",
      "1   2  Jane   30\n",
      "2   3   Bob   35\n"
     ]
    }
   ],
   "source": [
    "import pandas as pd\n",
    "\n",
    "# Create a list of lists\n",
    "data = [[1, \"John\", 25], [2, \"Jane\", 30], [3, \"Bob\", 35]]\n",
    "\n",
    "# Create a DataFrame from the list of lists\n",
    "df = pd.DataFrame(data, columns=[\"id\", \"name\", \"age\"])\n",
    "\n",
    "# Print the DataFrame\n",
    "print(df)\n",
    "print(\"\\n\")\n",
    "\n",
    "\n",
    "# Create a list of dictionaries\n",
    "data = [{\"id\": 1, \"name\": \"John\", \"age\": 25},\n",
    "        {\"id\": 2, \"name\": \"Jane\", \"age\": 30},\n",
    "        {\"id\": 3, \"name\": \"Bob\", \"age\": 35}]\n",
    "\n",
    "# Create a DataFrame from the list of dictionaries\n",
    "df = pd.DataFrame(data)\n",
    "\n",
    "# Print the DataFrame\n",
    "print(df)"
   ]
  },
  {
   "cell_type": "markdown",
   "metadata": {},
   "source": [
    "Q9. Create Data frame on your Domain area and perform the following operations to find and eliminate the\n",
    "missing data from the dataset.\n",
    "• isnull()\n",
    "• notnull()\n",
    "• dropna()\n",
    "• fillna()\n",
    "• replace()\n",
    "• interpolate()"
   ]
  },
  {
   "cell_type": "code",
   "execution_count": 24,
   "metadata": {},
   "outputs": [
    {
     "name": "stdout",
     "output_type": "stream",
     "text": [
      "  destination  rating  visitors\n",
      "0       Tokyo     4.5  100000.0\n",
      "1       Kyoto     4.2   80000.0\n",
      "2       Osaka     4.0   70000.0\n",
      "3    Hokkaido     4.3   60000.0\n",
      "4     Okinawa     4.1       NaN\n",
      "\n",
      "\n",
      "Missing values:\n",
      "   destination  rating  visitors\n",
      "0        False   False     False\n",
      "1        False   False     False\n",
      "2        False   False     False\n",
      "3        False   False     False\n",
      "4        False   False      True\n",
      "\n",
      "\n",
      "Non-missing values:\n",
      "   destination  rating  visitors\n",
      "0         True    True      True\n",
      "1         True    True      True\n",
      "2         True    True      True\n",
      "3         True    True      True\n",
      "4         True    True     False\n",
      "\n",
      "\n",
      "Dropped missing values:\n",
      "  destination  rating  visitors\n",
      "0       Tokyo     4.5  100000.0\n",
      "1       Kyoto     4.2   80000.0\n",
      "2       Osaka     4.0   70000.0\n",
      "3    Hokkaido     4.3   60000.0\n",
      "\n",
      "\n",
      "Filled missing values:\n",
      "  destination  rating  visitors\n",
      "0       Tokyo     4.5  100000.0\n",
      "1       Kyoto     4.2   80000.0\n",
      "2       Osaka     4.0   70000.0\n",
      "3    Hokkaido     4.3   60000.0\n",
      "4     Okinawa     4.1       0.0\n",
      "\n",
      "\n",
      "Replaced missing values:\n",
      "  destination  rating  visitors\n",
      "0       Tokyo     4.5  100000.0\n",
      "1       Kyoto     4.2   80000.0\n",
      "2       Osaka     4.0   70000.0\n",
      "3    Hokkaido     4.3   60000.0\n",
      "4     Okinawa     4.1   Unknown\n",
      "\n",
      "\n",
      "Interpolated missing values:\n",
      "  destination  rating  visitors\n",
      "0       Tokyo     4.5  100000.0\n",
      "1       Kyoto     4.2   80000.0\n",
      "2       Osaka     4.0   70000.0\n",
      "3    Hokkaido     4.3   60000.0\n",
      "4     Okinawa     4.1   60000.0\n"
     ]
    }
   ],
   "source": [
    "import pandas as pd\n",
    "import numpy as np\n",
    "\n",
    "# Create a list of dictionaries\n",
    "data = [{\"destination\": \"Tokyo\", \"rating\": 4.5, \"visitors\": 100000},\n",
    "        {\"destination\": \"Kyoto\", \"rating\": 4.2, \"visitors\": 80000},\n",
    "        {\"destination\": \"Osaka\", \"rating\": 4.0, \"visitors\": 70000},\n",
    "        {\"destination\": \"Hokkaido\", \"rating\": 4.3, \"visitors\": 60000},\n",
    "        {\"destination\": \"Okinawa\", \"rating\": 4.1, \"visitors\": None}]\n",
    "\n",
    "# Create a DataFrame from the list of dictionaries\n",
    "df = pd.DataFrame(data)\n",
    "\n",
    "# Print the DataFrame\n",
    "print(df)\n",
    "print(\"\\n\")\n",
    "\n",
    "\n",
    "# Check for missing values\n",
    "print(\"Missing values:\")\n",
    "print(df.isnull())\n",
    "print(\"\\n\")\n",
    "\n",
    "\n",
    "# Check for non-missing values\n",
    "print(\"Non-missing values:\")\n",
    "print(df.notnull())\n",
    "print(\"\\n\")\n",
    "\n",
    "\n",
    "# Drop rows with missing values\n",
    "df_dropped = df.dropna()\n",
    "print(\"Dropped missing values:\")\n",
    "print(df_dropped)\n",
    "print(\"\\n\")\n",
    "\n",
    "\n",
    "# Fill missing values with a specified value\n",
    "df_filled = df.fillna(0)\n",
    "print(\"Filled missing values:\")\n",
    "print(df_filled)\n",
    "print(\"\\n\")\n",
    "\n",
    "\n",
    "# Replace missing values with a specified value\n",
    "df_replaced = df.replace(np.nan, 'Unknown')\n",
    "print(\"Replaced missing values:\")\n",
    "print(df_replaced)\n",
    "print(\"\\n\")\n",
    "\n",
    "\n",
    "# Interpolate missing values using a linear method\n",
    "df_interpolated = df.interpolate()\n",
    "print(\"Interpolated missing values:\")\n",
    "print(df_interpolated)"
   ]
  },
  {
   "cell_type": "markdown",
   "metadata": {},
   "source": [
    "Q10. Perform the Hierarchical Indexing in the above created dataset."
   ]
  },
  {
   "cell_type": "code",
   "execution_count": 3,
   "metadata": {},
   "outputs": [
    {
     "name": "stdout",
     "output_type": "stream",
     "text": [
      "                     Population\n",
      "Country City                   \n",
      "USA     New York            8.4\n",
      "        Los Angeles         3.9\n",
      "Canada  Toronto             2.9\n",
      "        Vancouver           2.5\n",
      "Mexico  Mexico City         8.9\n",
      "        Cancun              0.7\n",
      "             Population\n",
      "City                   \n",
      "New York            8.4\n",
      "Los Angeles         3.9\n"
     ]
    }
   ],
   "source": [
    "\n",
    "import pandas as pd\n",
    "\n",
    "# Create a DataFrame\n",
    "data = {\n",
    "    'Country': ['USA', 'USA', 'Canada', 'Canada', 'Mexico', 'Mexico'],\n",
    "    'City': ['New York', 'Los Angeles', 'Toronto', 'Vancouver', 'Mexico City', 'Cancun'],\n",
    "    'Population': [8.4, 3.9, 2.9, 2.5, 8.9, 0.7]\n",
    "}\n",
    "\n",
    "df = pd.DataFrame(data)\n",
    "\n",
    "# Perform hierarchical indexing\n",
    "df.set_index(['Country', 'City'], inplace=True)\n",
    "\n",
    "print(df)\n",
    "\n",
    "\n",
    "print(df.loc['USA'])"
   ]
  }
 ],
 "metadata": {
  "kernelspec": {
   "display_name": "Python 3",
   "language": "python",
   "name": "python3"
  },
  "language_info": {
   "codemirror_mode": {
    "name": "ipython",
    "version": 3
   },
   "file_extension": ".py",
   "mimetype": "text/x-python",
   "name": "python",
   "nbconvert_exporter": "python",
   "pygments_lexer": "ipython3",
   "version": "3.11.5"
  },
  "orig_nbformat": 4
 },
 "nbformat": 4,
 "nbformat_minor": 2
}
